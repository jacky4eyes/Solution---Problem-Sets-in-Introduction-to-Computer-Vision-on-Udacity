{
 "cells": [
  {
   "cell_type": "code",
   "execution_count": 3,
   "metadata": {},
   "outputs": [],
   "source": [
    "%matplotlib qt\n",
    "import numpy as np\n",
    "import matplotlib.pyplot as plt\n",
    "from scipy import signal\n",
    "import cv2"
   ]
  },
  {
   "cell_type": "markdown",
   "metadata": {},
   "source": [
    "# Define image (grayscale)"
   ]
  },
  {
   "cell_type": "code",
   "execution_count": 4,
   "metadata": {},
   "outputs": [
    {
     "data": {
      "text/plain": [
       "(725, 1119)"
      ]
     },
     "execution_count": 4,
     "metadata": {},
     "output_type": "execute_result"
    }
   ],
   "source": [
    "im1 = plt.imread('./chester.jpg')\n",
    "im2 = im1[:,:,0]\n",
    "im2.shape"
   ]
  },
  {
   "cell_type": "markdown",
   "metadata": {},
   "source": [
    "# Define 1D filter"
   ]
  },
  {
   "cell_type": "code",
   "execution_count": 41,
   "metadata": {},
   "outputs": [],
   "source": [
    "f1 = np.array([[0.00218749, 0.011109  , 0.04393693, 0.13533528, 0.32465247,\n",
    "       0.60653066, 0.8824969 , 1.        , 0.8824969 , 0.60653066,\n",
    "       0.32465247, 0.13533528, 0.04393693, 0.011109  , 0.00218749]])\n",
    "f1 = f1/f1.sum()"
   ]
  },
  {
   "cell_type": "markdown",
   "metadata": {},
   "source": [
    "# Test separable filter with 2 convolutions"
   ]
  },
  {
   "cell_type": "code",
   "execution_count": 42,
   "metadata": {},
   "outputs": [],
   "source": [
    "f2 = f1.swapaxes(0,1)"
   ]
  },
  {
   "cell_type": "code",
   "execution_count": 43,
   "metadata": {},
   "outputs": [],
   "source": [
    "im3 = signal.convolve2d(im2,f1)\n",
    "im4 = signal.convolve2d(im2,f2)\n",
    "im5 = signal.convolve2d(im3,f2)"
   ]
  },
  {
   "cell_type": "code",
   "execution_count": 44,
   "metadata": {},
   "outputs": [
    {
     "data": {
      "text/plain": [
       "<matplotlib.image.AxesImage at 0x1c55e9a8a90>"
      ]
     },
     "execution_count": 44,
     "metadata": {},
     "output_type": "execute_result"
    }
   ],
   "source": [
    "try:\n",
    "    for stuff in ax1.ravel():\n",
    "        stuff.remove()\n",
    "except:\n",
    "    pass\n",
    "\n",
    "fig1 = plt.figure(1)\n",
    "ax1 = fig1.subplots(ncols=2,nrows=2,sharex=True,sharey=True)\n",
    "ax1[0,0].imshow(im2,cmap='gray')\n",
    "ax1[0,1].imshow(im3,cmap='gray')\n",
    "ax1[1,0].imshow(im4,cmap='gray')\n",
    "ax1[1,1].imshow(im5,cmap='gray')"
   ]
  },
  {
   "cell_type": "markdown",
   "metadata": {},
   "source": [
    "# Test blur filter (2D)"
   ]
  },
  {
   "cell_type": "code",
   "execution_count": 45,
   "metadata": {},
   "outputs": [],
   "source": [
    "from scipy import ndimage"
   ]
  },
  {
   "cell_type": "code",
   "execution_count": 46,
   "metadata": {},
   "outputs": [],
   "source": [
    "g = signal.gaussian(15,2)"
   ]
  },
  {
   "cell_type": "code",
   "execution_count": 47,
   "metadata": {},
   "outputs": [
    {
     "data": {
      "text/plain": [
       "<matplotlib.image.AxesImage at 0x1c55e8ff9b0>"
      ]
     },
     "execution_count": 47,
     "metadata": {},
     "output_type": "execute_result"
    }
   ],
   "source": [
    "im6a = ndimage.filters.gaussian_filter1d(im2,2,axis=0)\n",
    "im6b = ndimage.filters.gaussian_filter1d(im6a,2,axis=1)\n",
    "im6c = ndimage.gaussian_filter(im2,[2,2],mode='reflect')\n",
    "\n",
    "try:\n",
    "    for stuff in ax2.ravel():\n",
    "        stuff.remove()\n",
    "except:\n",
    "    pass\n",
    "\n",
    "fig2 = plt.figure(2)\n",
    "ax2 = fig1.subplots(ncols=2,nrows=2,sharex=True,sharey=True)\n",
    "ax2[0,0].imshow(im5,cmap='gray')\n",
    "ax2[0,1].imshow(im6a,cmap='gray')\n",
    "ax2[1,0].imshow(im6b,cmap='gray')\n",
    "ax2[1,1].imshow(im6c,cmap='gray')"
   ]
  },
  {
   "cell_type": "code",
   "execution_count": 48,
   "metadata": {},
   "outputs": [],
   "source": [
    "import time"
   ]
  },
  {
   "cell_type": "code",
   "execution_count": 49,
   "metadata": {},
   "outputs": [
    {
     "name": "stdout",
     "output_type": "stream",
     "text": [
      "9.812780141830444\n"
     ]
    }
   ],
   "source": [
    "t0 = time.time()\n",
    "for i in range(1000):\n",
    "    im6a = ndimage.filters.gaussian_filter1d(im2,2,axis=0)\n",
    "    im6b = ndimage.filters.gaussian_filter1d(im6a,2,axis=1)\n",
    "\n",
    "print(time.time()-t0)"
   ]
  },
  {
   "cell_type": "code",
   "execution_count": 51,
   "metadata": {},
   "outputs": [
    {
     "name": "stdout",
     "output_type": "stream",
     "text": [
      "9.814098834991455\n"
     ]
    }
   ],
   "source": [
    "t0 = time.time()\n",
    "for i in range(1000):\n",
    "    im6c = ndimage.gaussian_filter(im2,[2,2],mode='reflect')\n",
    "print(time.time()-t0)"
   ]
  },
  {
   "cell_type": "markdown",
   "metadata": {},
   "source": [
    "# Conclusion: the ndimage package does implement the Gaussian filter in a spearable manner"
   ]
  },
  {
   "cell_type": "markdown",
   "metadata": {},
   "source": [
    "# algorithm finding the minimum Euclidean distances from objects"
   ]
  },
  {
   "cell_type": "code",
   "execution_count": 5,
   "metadata": {},
   "outputs": [],
   "source": [
    "from scipy.spatial import distance"
   ]
  },
  {
   "cell_type": "code",
   "execution_count": 53,
   "metadata": {},
   "outputs": [
    {
     "data": {
      "text/plain": [
       "array([[ 1.80277564,  7.07106781, 19.41648784,  2.        ],\n",
       "       [ 0.5       ,  6.        , 18.68154169,  1.41421356],\n",
       "       [ 7.15891053,  9.89949494, 11.70469991,  8.24621125],\n",
       "       [ 4.5       ,  1.        , 20.59126028,  4.12310563]])"
      ]
     },
     "execution_count": 53,
     "metadata": {},
     "output_type": "execute_result"
    }
   ],
   "source": [
    "centroids_a = np.array([[1,5],[2,6],[9,5],[2,11]])\n",
    "centroids_b = np.array([[2,6.5],[2,12],[20,1],[1,7]])\n",
    "D = distance.cdist(centroids_a,centroids_b)\n",
    "D"
   ]
  },
  {
   "cell_type": "code",
   "execution_count": 54,
   "metadata": {},
   "outputs": [
    {
     "data": {
      "text/plain": [
       "array([1, 3, 0, 2], dtype=int64)"
      ]
     },
     "execution_count": 54,
     "metadata": {},
     "output_type": "execute_result"
    }
   ],
   "source": [
    "rows = D.min(axis=1).argsort()\n",
    "rows"
   ]
  },
  {
   "cell_type": "code",
   "execution_count": 55,
   "metadata": {},
   "outputs": [
    {
     "data": {
      "text/plain": [
       "array([0, 0, 0, 1], dtype=int64)"
      ]
     },
     "execution_count": 55,
     "metadata": {},
     "output_type": "execute_result"
    }
   ],
   "source": [
    "D.argmin(axis=1)"
   ]
  },
  {
   "cell_type": "code",
   "execution_count": 56,
   "metadata": {},
   "outputs": [
    {
     "data": {
      "text/plain": [
       "array([0, 1, 3, 2], dtype=int64)"
      ]
     },
     "execution_count": 56,
     "metadata": {},
     "output_type": "execute_result"
    }
   ],
   "source": [
    "D.min(axis=0).argsort()"
   ]
  },
  {
   "cell_type": "code",
   "execution_count": 57,
   "metadata": {},
   "outputs": [
    {
     "data": {
      "text/plain": [
       "array([0, 1, 0, 0], dtype=int64)"
      ]
     },
     "execution_count": 57,
     "metadata": {},
     "output_type": "execute_result"
    }
   ],
   "source": [
    "D.argmin(axis=1)[rows]"
   ]
  },
  {
   "cell_type": "code",
   "execution_count": 58,
   "metadata": {},
   "outputs": [
    {
     "data": {
      "text/plain": [
       "array([0, 0, 0, 1], dtype=int64)"
      ]
     },
     "execution_count": 58,
     "metadata": {},
     "output_type": "execute_result"
    }
   ],
   "source": [
    "D.argmin(axis=1)"
   ]
  },
  {
   "cell_type": "code",
   "execution_count": 59,
   "metadata": {},
   "outputs": [
    {
     "data": {
      "text/plain": [
       "array([1, 2, 9, 2])"
      ]
     },
     "execution_count": 59,
     "metadata": {},
     "output_type": "execute_result"
    }
   ],
   "source": [
    "centroids_a[:,0]"
   ]
  },
  {
   "cell_type": "code",
   "execution_count": 60,
   "metadata": {},
   "outputs": [
    {
     "data": {
      "text/plain": [
       "<matplotlib.collections.PathCollection at 0x1c55c7968d0>"
      ]
     },
     "execution_count": 60,
     "metadata": {},
     "output_type": "execute_result"
    }
   ],
   "source": [
    "try:\n",
    "    for stuff in ax3.ravel():\n",
    "        stuff.remove()\n",
    "except:\n",
    "    pass\n",
    "\n",
    "fig3 = plt.figure(3)\n",
    "ax3 = fig3.subplots(ncols=2,nrows=2)\n",
    "ax3[0,0].scatter(centroids_a[:,0],centroids_a[:,1],color='red')\n",
    "ax3[0,0].scatter(centroids_b[:,0],centroids_b[:,1],color='blue')\n",
    "\n"
   ]
  },
  {
   "cell_type": "markdown",
   "metadata": {},
   "source": [
    "# Creates 3-dimensional blob from image. \n",
    "## remember to use opencv module of read image as opposed to the matplotlib one"
   ]
  },
  {
   "cell_type": "code",
   "execution_count": 118,
   "metadata": {},
   "outputs": [],
   "source": [
    "# args = {'prototxt':'D:\\\\Work\\\\tutorials\\\\computer_vision\\\\simple-object-tracking\\\\deploy.prototxt',\n",
    "#         'model':'D:\\\\Work\\\\tutorials\\\\computer_vision\\\\simple-object-tracking\\\\res10_300x300_ssd_iter_140000.caffemodel',\n",
    "#         'confidence':0.15}\n",
    "\n",
    "# args = {'prototxt':'C:\\\\caffe\\\\models\\\\bvlc_alexnet\\\\deploy.prototxt',\n",
    "#         'model':'D:\\\\Work\\\\image_processing\\\\caffe_models\\\\bvlc_alexnet.caffemodel',\n",
    "#         'confidence':0.9}\n",
    "\n",
    "# args = {'prototxt':'C:\\\\caffe\\\\models\\\\bvlc_reference_caffenet\\\\deploy.prototxt',\n",
    "#         'model':'D:\\\\Work\\\\image_processing\\\\caffe_models\\\\bvlc_reference_rcnn_ilsvrc13.caffemodel',\n",
    "#         'confidence':0.9}\n",
    "\n",
    "args = {'prototxt':'D:\\\\Work\\\\image_processing\\\\deep-learning-opencv\\\\bvlc_googlenet.prototxt',\n",
    "        'model':'D:\\\\Work\\\\image_processing\\\\caffe_models\\\\bvlc_googlenet.caffemodel',\n",
    "        'labels':'D:\\\\Work\\\\image_processing\\\\deep-learning-opencv\\\\synset_words.txt'\n",
    "       }\n",
    "    \n",
    "net = cv2.dnn.readNetFromCaffe(args['prototxt'],args['model'])\n",
    "\n",
    "classes = [x[10:-1] for x in open(args['labels'],mode='r')]\n",
    "    "
   ]
  },
  {
   "cell_type": "code",
   "execution_count": 98,
   "metadata": {},
   "outputs": [
    {
     "data": {
      "text/plain": [
       "(725, 1119)"
      ]
     },
     "execution_count": 98,
     "metadata": {},
     "output_type": "execute_result"
    }
   ],
   "source": []
  },
  {
   "cell_type": "code",
   "execution_count": 103,
   "metadata": {},
   "outputs": [
    {
     "data": {
      "text/plain": [
       "(725, 1119)"
      ]
     },
     "execution_count": 103,
     "metadata": {},
     "output_type": "execute_result"
    }
   ],
   "source": [
    "im7.shape[:2]"
   ]
  },
  {
   "cell_type": "code",
   "execution_count": 162,
   "metadata": {},
   "outputs": [
    {
     "data": {
      "text/plain": [
       "0.2400315"
      ]
     },
     "execution_count": 162,
     "metadata": {},
     "output_type": "execute_result"
    }
   ],
   "source": [
    "detections[0].max()"
   ]
  },
  {
   "cell_type": "code",
   "execution_count": 229,
   "metadata": {},
   "outputs": [],
   "source": [
    "# detections.argsort()[0]"
   ]
  },
  {
   "cell_type": "code",
   "execution_count": 233,
   "metadata": {},
   "outputs": [
    {
     "data": {
      "text/plain": [
       "array([2.4220297e-09, 4.2347708e-09, 4.5990287e-09, 4.7804365e-09,\n",
       "       5.3394862e-09], dtype=float32)"
      ]
     },
     "execution_count": 233,
     "metadata": {},
     "output_type": "execute_result"
    }
   ],
   "source": []
  },
  {
   "cell_type": "code",
   "execution_count": 237,
   "metadata": {},
   "outputs": [
    {
     "name": "stdout",
     "output_type": "stream",
     "text": [
      "(683, 1024, 3)\n",
      "Doberman, Doberman pinscher \n",
      " 0.972438\n",
      "['Doberman, Doberman pinscher', 'Gordon setter', 'Rottweiler']\n",
      "[0.97243786 0.00860785 0.00387236]\n"
     ]
    }
   ],
   "source": [
    "im7 = cv2.imread('./doberman3.jpg')\n",
    "print(im7.shape)\n",
    "im7_blob = cv2.dnn.blobFromImage(im7,1,(244,244),(10,10,10))\n",
    "net.setInput(im7_blob)\n",
    "detections = net.forward()\n",
    "bestguess=detections[0].argmax()\n",
    "goodguesses = detections[0].argsort()[:-4:-1]\n",
    "print(classes[bestguess],'\\n %f' %(detections[0].max()))\n",
    "print([classes[x] for x in goodguesses])\n",
    "print(detections[0][detections.argsort()[0][:-4:-1]])"
   ]
  },
  {
   "cell_type": "code",
   "execution_count": 119,
   "metadata": {},
   "outputs": [
    {
     "ename": "error",
     "evalue": "OpenCV(4.1.0) C:\\projects\\opencv-python\\opencv\\modules\\dnn\\src\\layers\\fully_connected_layer.cpp:154: error: (-215:Assertion failed) srcMat.dims == 2 && srcMat.cols == weights.cols && dstMat.rows == srcMat.rows && dstMat.cols == weights.rows && srcMat.type() == weights.type() && weights.type() == dstMat.type() && srcMat.type() == CV_32F && (biasMat.empty() || (biasMat.type() == srcMat.type() && biasMat.isContinuous() && (int)biasMat.total() == dstMat.cols)) in function 'cv::dnn::FullyConnectedLayerImpl::FullyConnected::run'\n",
     "output_type": "error",
     "traceback": [
      "\u001b[1;31m---------------------------------------------------------------------------\u001b[0m",
      "\u001b[1;31merror\u001b[0m                                     Traceback (most recent call last)",
      "\u001b[1;32m<ipython-input-119-9336cb49df6b>\u001b[0m in \u001b[0;36m<module>\u001b[1;34m\u001b[0m\n\u001b[0;32m      3\u001b[0m \u001b[0mimcloud_blob\u001b[0m \u001b[1;33m=\u001b[0m \u001b[0mcv2\u001b[0m\u001b[1;33m.\u001b[0m\u001b[0mdnn\u001b[0m\u001b[1;33m.\u001b[0m\u001b[0mblobFromImage\u001b[0m\u001b[1;33m(\u001b[0m\u001b[0mimcloud\u001b[0m\u001b[1;33m,\u001b[0m \u001b[1;36m1\u001b[0m\u001b[1;33m,\u001b[0m \u001b[1;33m(\u001b[0m\u001b[1;36m960\u001b[0m\u001b[1;33m,\u001b[0m\u001b[1;36m600\u001b[0m\u001b[1;33m)\u001b[0m\u001b[1;33m,\u001b[0m\u001b[1;33m(\u001b[0m\u001b[1;36m48\u001b[0m\u001b[1;33m,\u001b[0m\u001b[1;36m48\u001b[0m\u001b[1;33m,\u001b[0m\u001b[1;36m48\u001b[0m\u001b[1;33m)\u001b[0m\u001b[1;33m)\u001b[0m\u001b[1;33m\u001b[0m\u001b[0m\n\u001b[0;32m      4\u001b[0m \u001b[0mnet\u001b[0m\u001b[1;33m.\u001b[0m\u001b[0msetInput\u001b[0m\u001b[1;33m(\u001b[0m\u001b[0mimcloud_blob\u001b[0m\u001b[1;33m)\u001b[0m\u001b[1;33m\u001b[0m\u001b[0m\n\u001b[1;32m----> 5\u001b[1;33m \u001b[0mdetections\u001b[0m \u001b[1;33m=\u001b[0m \u001b[0mnet\u001b[0m\u001b[1;33m.\u001b[0m\u001b[0mforward\u001b[0m\u001b[1;33m(\u001b[0m\u001b[1;33m)\u001b[0m\u001b[1;33m\u001b[0m\u001b[0m\n\u001b[0m\u001b[0;32m      6\u001b[0m \u001b[1;33m\u001b[0m\u001b[0m\n\u001b[0;32m      7\u001b[0m \u001b[0mrects\u001b[0m \u001b[1;33m=\u001b[0m \u001b[1;33m[\u001b[0m\u001b[1;33m]\u001b[0m\u001b[1;33m\u001b[0m\u001b[0m\n",
      "\u001b[1;31merror\u001b[0m: OpenCV(4.1.0) C:\\projects\\opencv-python\\opencv\\modules\\dnn\\src\\layers\\fully_connected_layer.cpp:154: error: (-215:Assertion failed) srcMat.dims == 2 && srcMat.cols == weights.cols && dstMat.rows == srcMat.rows && dstMat.cols == weights.rows && srcMat.type() == weights.type() && weights.type() == dstMat.type() && srcMat.type() == CV_32F && (biasMat.empty() || (biasMat.type() == srcMat.type() && biasMat.isContinuous() && (int)biasMat.total() == dstMat.cols)) in function 'cv::dnn::FullyConnectedLayerImpl::FullyConnected::run'\n"
     ]
    }
   ],
   "source": [
    "imcloud = cv2.imread('./1552016575_calibrated.png')\n",
    "imcloud_boxes = imcloud.copy()\n",
    "imcloud_blob = cv2.dnn.blobFromImage(imcloud, 1, (960,600),(48,48,48))\n",
    "net.setInput(imcloud_blob)\n",
    "detections = net.forward()\n",
    "\n",
    "rects = []\n",
    "for i in range(0, detections.shape[2]):\n",
    "# filter out weak detections by ensuring the predicted\n",
    "# probability is greater than a minimum threshold\n",
    "#     print(detections[0, 0, i, 2])\n",
    "    if detections[0, 0, i, 2] > args[\"confidence\"]:\n",
    "        # compute the (x, y)-coordinates of the bounding box for\n",
    "        # the object, then update the bounding box rectangles list\n",
    "        box = detections[0, 0, i, 3:7] * np.array([960, 600, 960, 600])\n",
    "        rects.append(box.astype(\"int\"))\n",
    "\n",
    "        # draw a bounding box surrounding the object so we can\n",
    "        # visualize it\n",
    "        (startX, startY, endX, endY) = box.astype(\"int\")\n",
    "        cv2.rectangle(imcloud_boxes, (startX, startY), (endX, endY),\n",
    "            (0, 255, 0), 2)\n",
    "        \n",
    "# objects = ct.update(rects)\n",
    "# imcloud[imcloud>0].mean()\n",
    "# imcloud.shape\n",
    "# imcloud_bloc-imcloud\n",
    "# detections[0,0,:,:]\n",
    "# imcloud_blob.shape\n",
    "# imcloud_boxes.shape"
   ]
  },
  {
   "cell_type": "code",
   "execution_count": 45,
   "metadata": {},
   "outputs": [
    {
     "name": "stderr",
     "output_type": "stream",
     "text": [
      "Clipping input data to the valid range for imshow with RGB data ([0..1] for floats or [0..255] for integers).\n"
     ]
    },
    {
     "data": {
      "text/plain": [
       "<matplotlib.image.AxesImage at 0x28200c2b0f0>"
      ]
     },
     "execution_count": 45,
     "metadata": {},
     "output_type": "execute_result"
    }
   ],
   "source": [
    "try:\n",
    "    for stuff in ax4.ravel():\n",
    "        stuff.remove()\n",
    "except:\n",
    "    pass\n",
    "\n",
    "\n",
    "imcloud = cv2.cvtColor(imcloud,cv2.COLOR_BGR2RGB)\n",
    "imcloud_boxes = cv2.cvtColor(imcloud_boxes,cv2.COLOR_BGR2RGB)\n",
    "fig4 = plt.figure(4)\n",
    "ax4 = fig4.subplots(ncols=2,nrows=2,sharex=True,sharey=True)\n",
    "ax4[0,0].imshow(imcloud[:,:,:])\n",
    "ax4[0,1].imshow(imcloud_blob[0,:,:,:].swapaxes(0,2).swapaxes(0,1))\n",
    "ax4[1,0].imshow(imcloud_boxes[:,:,:])"
   ]
  },
  {
   "cell_type": "code",
   "execution_count": null,
   "metadata": {},
   "outputs": [],
   "source": []
  }
 ],
 "metadata": {
  "kernelspec": {
   "display_name": "Python 3",
   "language": "python",
   "name": "python3"
  },
  "language_info": {
   "codemirror_mode": {
    "name": "ipython",
    "version": 3
   },
   "file_extension": ".py",
   "mimetype": "text/x-python",
   "name": "python",
   "nbconvert_exporter": "python",
   "pygments_lexer": "ipython3",
   "version": "3.6.6"
  }
 },
 "nbformat": 4,
 "nbformat_minor": 2
}
